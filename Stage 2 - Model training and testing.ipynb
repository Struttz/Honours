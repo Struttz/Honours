{
 "cells": [
  {
   "cell_type": "code",
   "execution_count": 1,
   "metadata": {
    "ExecuteTime": {
     "end_time": "2020-03-12T14:40:35.895670Z",
     "start_time": "2020-03-12T14:40:35.889668Z"
    }
   },
   "outputs": [],
   "source": [
    "import numpy as np\n",
    "import pandas as pd\n",
    "import seaborn as sns\n",
    "from numba import jit, cuda\n",
    "from sklearn.svm import SVC\n",
    "import matplotlib.pyplot as plt\n",
    "from sklearn.metrics import classification_report, confusion_matrix\n",
    "%matplotlib inline"
   ]
  },
  {
   "cell_type": "code",
   "execution_count": 2,
   "metadata": {
    "ExecuteTime": {
     "end_time": "2020-03-12T15:27:40.353621Z",
     "start_time": "2020-03-12T15:27:40.331621Z"
    }
   },
   "outputs": [
    {
     "data": {
      "text/html": [
       "<div>\n",
       "<style scoped>\n",
       "    .dataframe tbody tr th:only-of-type {\n",
       "        vertical-align: middle;\n",
       "    }\n",
       "\n",
       "    .dataframe tbody tr th {\n",
       "        vertical-align: top;\n",
       "    }\n",
       "\n",
       "    .dataframe thead th {\n",
       "        text-align: right;\n",
       "    }\n",
       "</style>\n",
       "<table border=\"1\" class=\"dataframe\">\n",
       "  <thead>\n",
       "    <tr style=\"text-align: right;\">\n",
       "      <th></th>\n",
       "      <th>Length</th>\n",
       "      <th>Entropy</th>\n",
       "      <th>Vowel</th>\n",
       "      <th>Consonant</th>\n",
       "      <th>Special</th>\n",
       "      <th>V Con</th>\n",
       "      <th>C Vow</th>\n",
       "      <th>Lines</th>\n",
       "      <th>State</th>\n",
       "    </tr>\n",
       "  </thead>\n",
       "  <tbody>\n",
       "    <tr>\n",
       "      <th>10227</th>\n",
       "      <td>5704</td>\n",
       "      <td>2.650124</td>\n",
       "      <td>26</td>\n",
       "      <td>54</td>\n",
       "      <td>5624</td>\n",
       "      <td>0.481481</td>\n",
       "      <td>2.076923</td>\n",
       "      <td>4</td>\n",
       "      <td>1</td>\n",
       "    </tr>\n",
       "    <tr>\n",
       "      <th>10228</th>\n",
       "      <td>2918</td>\n",
       "      <td>3.239057</td>\n",
       "      <td>67</td>\n",
       "      <td>220</td>\n",
       "      <td>2631</td>\n",
       "      <td>0.304545</td>\n",
       "      <td>3.283582</td>\n",
       "      <td>4</td>\n",
       "      <td>1</td>\n",
       "    </tr>\n",
       "    <tr>\n",
       "      <th>10229</th>\n",
       "      <td>1131</td>\n",
       "      <td>3.489889</td>\n",
       "      <td>167</td>\n",
       "      <td>291</td>\n",
       "      <td>673</td>\n",
       "      <td>0.573883</td>\n",
       "      <td>1.742515</td>\n",
       "      <td>17</td>\n",
       "      <td>1</td>\n",
       "    </tr>\n",
       "    <tr>\n",
       "      <th>10230</th>\n",
       "      <td>6508</td>\n",
       "      <td>1.683901</td>\n",
       "      <td>27</td>\n",
       "      <td>68</td>\n",
       "      <td>6413</td>\n",
       "      <td>0.397059</td>\n",
       "      <td>2.518519</td>\n",
       "      <td>4</td>\n",
       "      <td>1</td>\n",
       "    </tr>\n",
       "    <tr>\n",
       "      <th>10231</th>\n",
       "      <td>721</td>\n",
       "      <td>3.280078</td>\n",
       "      <td>76</td>\n",
       "      <td>139</td>\n",
       "      <td>506</td>\n",
       "      <td>0.546763</td>\n",
       "      <td>1.828947</td>\n",
       "      <td>21</td>\n",
       "      <td>1</td>\n",
       "    </tr>\n",
       "  </tbody>\n",
       "</table>\n",
       "</div>"
      ],
      "text/plain": [
       "       Length   Entropy  Vowel  Consonant  Special     V Con     C Vow  Lines  \\\n",
       "10227    5704  2.650124     26         54     5624  0.481481  2.076923      4   \n",
       "10228    2918  3.239057     67        220     2631  0.304545  3.283582      4   \n",
       "10229    1131  3.489889    167        291      673  0.573883  1.742515     17   \n",
       "10230    6508  1.683901     27         68     6413  0.397059  2.518519      4   \n",
       "10231     721  3.280078     76        139      506  0.546763  1.828947     21   \n",
       "\n",
       "       State  \n",
       "10227      1  \n",
       "10228      1  \n",
       "10229      1  \n",
       "10230      1  \n",
       "10231      1  "
      ]
     },
     "execution_count": 2,
     "metadata": {},
     "output_type": "execute_result"
    }
   ],
   "source": [
    "#iris\n",
    "test=pd.read_csv('Extracted_Features\\Total Features.csv')\n",
    "\n",
    "# Checking the dataset\n",
    "test.head()\n",
    "test.tail()"
   ]
  },
  {
   "cell_type": "code",
   "execution_count": null,
   "metadata": {
    "ExecuteTime": {
     "end_time": "2020-03-12T15:28:00.970636Z",
     "start_time": "2020-03-12T15:27:42.001622Z"
    }
   },
   "outputs": [],
   "source": [
    "# Creating a pairplot to visualize the similarities and especially difference between the species\n",
    "sns.pairplot(data=test, hue='State', palette='Set2')"
   ]
  },
  {
   "cell_type": "code",
   "execution_count": 3,
   "metadata": {
    "ExecuteTime": {
     "end_time": "2020-03-12T15:29:28.791438Z",
     "start_time": "2020-03-12T15:29:28.783477Z"
    }
   },
   "outputs": [],
   "source": [
    "X = test.drop('State', axis=1)\n",
    "y = test['State']"
   ]
  },
  {
   "cell_type": "code",
   "execution_count": null,
   "metadata": {
    "ExecuteTime": {
     "end_time": "2020-03-12T15:29:30.590896Z",
     "start_time": "2020-03-12T15:29:30.580953Z"
    }
   },
   "outputs": [],
   "source": [
    "print(X)"
   ]
  },
  {
   "cell_type": "code",
   "execution_count": 64,
   "metadata": {
    "ExecuteTime": {
     "end_time": "2020-03-12T14:44:58.722836Z",
     "start_time": "2020-03-12T14:44:58.704836Z"
    }
   },
   "outputs": [],
   "source": [
    "from sklearn.model_selection import train_test_split\n",
    "X_train, X_test, y_train, y_test = train_test_split(X, y, test_size = 0.20)"
   ]
  },
  {
   "cell_type": "code",
   "execution_count": 67,
   "metadata": {
    "ExecuteTime": {
     "end_time": "2020-03-12T15:07:30.502967Z",
     "start_time": "2020-03-12T14:47:23.681710Z"
    }
   },
   "outputs": [
    {
     "data": {
      "text/plain": [
       "SVC(C=10, break_ties=False, cache_size=200, class_weight=None, coef0=0.0,\n",
       "    decision_function_shape='ovr', degree=3, gamma='scale', kernel='linear',\n",
       "    max_iter=-1, probability=False, random_state=None, shrinking=True,\n",
       "    tol=0.001, verbose=False)"
      ]
     },
     "execution_count": 67,
     "metadata": {},
     "output_type": "execute_result"
    }
   ],
   "source": [
    "from sklearn.model_selection import cross_val_score\n",
    "svclassifier = SVC(kernel='linear', C=10)\n",
    "\n",
    "# scores = cross_val_score(svclassifier, X_train, y_train, cv=5)\n",
    "# print(scores)\n",
    "\n",
    "svclassifier.fit(X_train, y_train)"
   ]
  },
  {
   "cell_type": "code",
   "execution_count": 68,
   "metadata": {
    "ExecuteTime": {
     "end_time": "2020-03-12T15:07:46.977749Z",
     "start_time": "2020-03-12T15:07:46.939737Z"
    }
   },
   "outputs": [
    {
     "name": "stdout",
     "output_type": "stream",
     "text": [
      "[[1310   72]\n",
      " [  57  608]]\n",
      "              precision    recall  f1-score   support\n",
      "\n",
      "           0       0.96      0.95      0.95      1385\n",
      "           1       0.89      0.92      0.90       662\n",
      "\n",
      "    accuracy                           0.94      2047\n",
      "   macro avg       0.93      0.93      0.93      2047\n",
      "weighted avg       0.94      0.94      0.94      2047\n",
      "\n"
     ]
    }
   ],
   "source": [
    "y_pred = svclassifier.predict(X_test)\n",
    "\n",
    "from sklearn.metrics import classification_report, confusion_matrix\n",
    "print(confusion_matrix(y_test,y_pred))\n",
    "print(classification_report(y_test,y_pred))"
   ]
  },
  {
   "cell_type": "code",
   "execution_count": null,
   "metadata": {},
   "outputs": [],
   "source": [
    "y_pred2 = svclassifier.predict(X_test2)\n",
    "\n",
    "from sklearn.metrics import classification_report, confusion_matrix\n",
    "print(confusion_matrix(y_test2,y_pred2))\n",
    "print(classification_report(y_test2,y_pred2))"
   ]
  }
 ],
 "metadata": {
  "kernelspec": {
   "display_name": "Python 3",
   "language": "python",
   "name": "python3"
  },
  "language_info": {
   "codemirror_mode": {
    "name": "ipython",
    "version": 3
   },
   "file_extension": ".py",
   "mimetype": "text/x-python",
   "name": "python",
   "nbconvert_exporter": "python",
   "pygments_lexer": "ipython3",
   "version": "3.7.7"
  },
  "varInspector": {
   "cols": {
    "lenName": 16,
    "lenType": 16,
    "lenVar": 40
   },
   "kernels_config": {
    "python": {
     "delete_cmd_postfix": "",
     "delete_cmd_prefix": "del ",
     "library": "var_list.py",
     "varRefreshCmd": "print(var_dic_list())"
    },
    "r": {
     "delete_cmd_postfix": ") ",
     "delete_cmd_prefix": "rm(",
     "library": "var_list.r",
     "varRefreshCmd": "cat(var_dic_list()) "
    }
   },
   "types_to_exclude": [
    "module",
    "function",
    "builtin_function_or_method",
    "instance",
    "_Feature"
   ],
   "window_display": false
  }
 },
 "nbformat": 4,
 "nbformat_minor": 4
}
